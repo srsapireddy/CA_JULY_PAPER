{
  "cells": [
    {
      "cell_type": "markdown",
      "metadata": {
        "id": "npPRBlUtv4K8"
      },
      "source": [
        "2 REGIONS"
      ]
    },
    {
      "cell_type": "code",
      "execution_count": 2,
      "metadata": {
        "colab": {
          "base_uri": "https://localhost:8080/"
        },
        "id": "DuyAoiSqnvct",
        "outputId": "9cd84fe0-b49d-439e-8b00-bba810b34325"
      },
      "outputs": [
        {
          "output_type": "stream",
          "name": "stdout",
          "text": [
            "Wed Jul 19 04:10:20 2023       \n",
            "+-----------------------------------------------------------------------------+\n",
            "| NVIDIA-SMI 525.105.17   Driver Version: 525.105.17   CUDA Version: 12.0     |\n",
            "|-------------------------------+----------------------+----------------------+\n",
            "| GPU  Name        Persistence-M| Bus-Id        Disp.A | Volatile Uncorr. ECC |\n",
            "| Fan  Temp  Perf  Pwr:Usage/Cap|         Memory-Usage | GPU-Util  Compute M. |\n",
            "|                               |                      |               MIG M. |\n",
            "|===============================+======================+======================|\n",
            "|   0  NVIDIA A100-SXM...  Off  | 00000000:00:04.0 Off |                    0 |\n",
            "| N/A   32C    P0    48W / 400W |    709MiB / 40960MiB |      0%      Default |\n",
            "|                               |                      |             Disabled |\n",
            "+-------------------------------+----------------------+----------------------+\n",
            "                                                                               \n",
            "+-----------------------------------------------------------------------------+\n",
            "| Processes:                                                                  |\n",
            "|  GPU   GI   CI        PID   Type   Process name                  GPU Memory |\n",
            "|        ID   ID                                                   Usage      |\n",
            "|=============================================================================|\n",
            "+-----------------------------------------------------------------------------+\n"
          ]
        }
      ],
      "source": [
        "!nvidia-smi"
      ]
    },
    {
      "cell_type": "code",
      "execution_count": 1,
      "metadata": {
        "colab": {
          "base_uri": "https://localhost:8080/"
        },
        "id": "BB_hyQt_Ayff",
        "outputId": "223ec83a-6075-4747-8448-7604ff346486"
      },
      "outputs": [
        {
          "output_type": "stream",
          "name": "stdout",
          "text": [
            "0.12457628399999976 seconds\n"
          ]
        },
        {
          "output_type": "execute_result",
          "data": {
            "text/plain": [
              "array([0.04742587, 0.9999546 , 0.00669285, 0.98201376, 0.999089  ],\n",
              "      dtype=float32)"
            ]
          },
          "metadata": {},
          "execution_count": 1
        }
      ],
      "source": [
        "import tensorflow as tf\n",
        "import time\n",
        "\n",
        "a = tf.constant([-3, 10, -5, 4, 7], dtype = tf.float32)\n",
        "\n",
        "start_time = time.perf_counter ()\n",
        "b = tf.keras.activations.sigmoid(a)\n",
        "end_time = time.perf_counter ()\n",
        "\n",
        "print(end_time - start_time, \"seconds\")\n",
        "b.numpy()"
      ]
    },
    {
      "cell_type": "code",
      "execution_count": 3,
      "metadata": {
        "colab": {
          "base_uri": "https://localhost:8080/"
        },
        "id": "ETEjN_tBCweR",
        "outputId": "45e3e0f4-b939-4c56-e3a7-2bed076bc99f"
      },
      "outputs": [
        {
          "output_type": "stream",
          "name": "stdout",
          "text": [
            "0.0004948329999976409 seconds\n",
            "tf.Tensor([0.04742587 0.9999546  0.00669285 0.98201376 0.999089  ], shape=(5,), dtype=float32)\n"
          ]
        }
      ],
      "source": [
        "# Importing the Tensorflow library\n",
        "import tensorflow as tf\n",
        "import time\n",
        "\n",
        "# A constant vector of size 6\n",
        "a = tf.constant([-3, 10, -5, 4, 7], dtype = tf.float32)\n",
        "\n",
        "start_time = time.perf_counter ()\n",
        "# Applying the sigmoid function and\n",
        "# storing the result in 'b'\n",
        "b = tf.nn.sigmoid(a, name ='sigmoid')\n",
        "end_time = time.perf_counter ()\n",
        "\n",
        "print(end_time - start_time, \"seconds\")\n",
        "print(b)"
      ]
    },
    {
      "cell_type": "code",
      "execution_count": null,
      "metadata": {
        "colab": {
          "base_uri": "https://localhost:8080/"
        },
        "id": "htmladY4Et89",
        "outputId": "442d7a11-3574-46ec-88f6-7c70ea1c921b"
      },
      "outputs": [
        {
          "output_type": "stream",
          "name": "stdout",
          "text": [
            "0.00014845600000512604 seconds\n",
            "tf.Tensor([0.011 1.183 0.007 0.955 1.069], shape=(5,), dtype=float32)\n"
          ]
        }
      ],
      "source": [
        "# Imnporting Libraries\n",
        "from keras.models import Sequential\n",
        "from keras.layers import Dense\n",
        "import tensorflow as tf\n",
        "import numpy as np\n",
        "# Custom activation function\n",
        "from keras.layers import Activation\n",
        "from keras import backend as K\n",
        "import tensorflow as tf\n",
        "from tensorflow import keras\n",
        "import keras.utils as generic_utils\n",
        "import tensorflow.python.keras.utils as generic_utils\n",
        "from tensorflow.keras.utils import get_custom_objects\n",
        "\n",
        "\n",
        "start_time = time.perf_counter ()\n",
        "def custom_activation(x):\n",
        "\n",
        "  r = K.tf.where(\n",
        "         condition=(K.tf.logical_and(K.tf.greater(x, -10), K.tf.less(x, 0))),\n",
        "         x=K.tf.add(0.017,K.tf.multiply(0.002,x)),\n",
        "         y=K.tf.add(0.803,K.tf.multiply(0.038,x))\n",
        "     )\n",
        "  return r\n",
        "end_time = time.perf_counter ()\n",
        "\n",
        "print(end_time - start_time, \"seconds\")\n",
        "b = np.array([-3, 10, -5, 4, 7])\n",
        "print(custom_activation(b))"
      ]
    },
    {
      "cell_type": "markdown",
      "metadata": {
        "id": "kOIx5ufNwLnJ"
      },
      "source": [
        "3 REGIONS"
      ]
    },
    {
      "cell_type": "code",
      "execution_count": 4,
      "metadata": {
        "colab": {
          "base_uri": "https://localhost:8080/"
        },
        "id": "YU-XQv8mwK14",
        "outputId": "e0e4eb58-a67a-4c29-97e1-d3da6f32d565"
      },
      "outputs": [
        {
          "output_type": "stream",
          "name": "stdout",
          "text": [
            "0.0005958389999989322 seconds\n",
            "tf.Tensor([0.014 1.006 0.006 0.994 1.   ], shape=(5,), dtype=float32)\n"
          ]
        }
      ],
      "source": [
        "# Imnporting Libraries\n",
        "from keras.models import Sequential\n",
        "from keras.layers import Dense\n",
        "import tensorflow as tf\n",
        "import numpy as np\n",
        "# Custom activation function\n",
        "from keras.layers import Activation\n",
        "from keras import backend as K\n",
        "import tensorflow as tf\n",
        "from tensorflow import keras\n",
        "import keras.utils as generic_utils\n",
        "import tensorflow.python.keras.utils as generic_utils\n",
        "from tensorflow.keras.utils import get_custom_objects\n",
        "\n",
        "start_time = time.perf_counter ()\n",
        "@tf.function\n",
        "def custom_activation(x):\n",
        "\n",
        "  #def f1(): return 0.001\n",
        "  def f3(): return K.tf.add(0.5,K.tf.multiply(tf.cast(x, tf.float32),0.231))\n",
        "  def f4(): return K.tf.add(0.986,K.tf.multiply(0.002,tf.cast(x, tf.float32)))\n",
        "  def f2(): return K.tf.where(K.tf.logical_and(K.tf.greater(tf.cast(x, tf.float32), -2.5), K.tf.less(tf.cast(x, tf.float32), 2.5)),x=f3(),y=f4())\n",
        "\n",
        "\n",
        "\n",
        "  r = K.tf.where(\n",
        "         condition=(K.tf.logical_and(K.tf.greater(tf.cast(x, tf.float32), -10), K.tf.less(tf.cast(x, tf.float32), -2.5))),\n",
        "         x=K.tf.add(0.026,K.tf.multiply(0.004,tf.cast(x, tf.float32))),\n",
        "         y=f2())\n",
        "\n",
        "  return r\n",
        "end_time = time.perf_counter ()\n",
        "\n",
        "\n",
        "# [[ 0.04700001  1.         -0.01099999  0.982       1.        ]]\n",
        "  #return r\n",
        "print(end_time - start_time, \"seconds\")\n",
        "b = np.array([-3, 10, -5, 4, 7])\n",
        "print(custom_activation(b))"
      ]
    },
    {
      "cell_type": "markdown",
      "source": [
        "3 REGIONS WITH INT VALUES"
      ],
      "metadata": {
        "id": "4fi0y69JWKxY"
      }
    },
    {
      "cell_type": "code",
      "source": [
        "# Imnporting Libraries\n",
        "from keras.models import Sequential\n",
        "from keras.layers import Dense\n",
        "import tensorflow as tf\n",
        "import numpy as np\n",
        "# Custom activation function\n",
        "from keras.layers import Activation\n",
        "from keras import backend as K\n",
        "import tensorflow as tf\n",
        "from tensorflow import keras\n",
        "import keras.utils as generic_utils\n",
        "import tensorflow.python.keras.utils as generic_utils\n",
        "from tensorflow.keras.utils import get_custom_objects\n",
        "\n",
        "start_time = time.perf_counter ()\n",
        "@tf.function\n",
        "def custom_activation(x):\n",
        "\n",
        "  #def f1(): return 0.001\n",
        "  def f3(): return K.tf.add(0.5,K.tf.multiply(tf.cast(x, tf.float32),0.231))\n",
        "  def f4(): return K.tf.add(1.0,K.tf.multiply(0.0,tf.cast(x, tf.float32)))\n",
        "  def f2(): return K.tf.where(K.tf.logical_and(K.tf.greater(tf.cast(x, tf.float32), -2.5), K.tf.less(tf.cast(x, tf.float32), 2.5)),x=f3(),y=f4())\n",
        "\n",
        "\n",
        "\n",
        "  r = K.tf.where(\n",
        "         condition=(K.tf.logical_and(K.tf.greater(tf.cast(x, tf.float32), -10), K.tf.less(tf.cast(x, tf.float32), -2.5))),\n",
        "         x=K.tf.add(0.0,K.tf.multiply(0.0,tf.cast(x, tf.float32))),\n",
        "         y=f2())\n",
        "\n",
        "  return r\n",
        "end_time = time.perf_counter ()\n",
        "\n",
        "\n",
        "# [[ 0.04700001  1.         -0.01099999  0.982       1.        ]]\n",
        "  #return r\n",
        "print(end_time - start_time, \"seconds\")\n",
        "b = np.array([-3, 10, -5, 4, 7])\n",
        "print(custom_activation(b))"
      ],
      "metadata": {
        "colab": {
          "base_uri": "https://localhost:8080/"
        },
        "id": "geT7uRKgWFjh",
        "outputId": "570612bf-b163-4bed-f0c6-317faa846350"
      },
      "execution_count": 5,
      "outputs": [
        {
          "output_type": "stream",
          "name": "stdout",
          "text": [
            "0.0005568710000005694 seconds\n",
            "tf.Tensor([0. 1. 0. 1. 1.], shape=(5,), dtype=float32)\n"
          ]
        }
      ]
    },
    {
      "cell_type": "markdown",
      "metadata": {
        "id": "v_bLXqvLbTpJ"
      },
      "source": [
        "5 REGIONS"
      ]
    },
    {
      "cell_type": "code",
      "execution_count": 7,
      "metadata": {
        "id": "rauNBWiibXLL",
        "colab": {
          "base_uri": "https://localhost:8080/"
        },
        "outputId": "a2281b74-0301-43b5-82ac-08b919d777bd"
      },
      "outputs": [
        {
          "output_type": "stream",
          "name": "stdout",
          "text": [
            "0.0009339000000068154 seconds\n",
            "tf.Tensor([[0.02249998 1.         1.         0.99549997 1.        ]], shape=(1, 5), dtype=float32)\n"
          ]
        }
      ],
      "source": [
        "# Imnporting Libraries\n",
        "from keras.models import Sequential\n",
        "from keras.layers import Dense\n",
        "import tensorflow as tf\n",
        "import numpy as np\n",
        "# Custom activation function\n",
        "from keras.layers import Activation\n",
        "from keras import backend as k\n",
        "import tensorflow as tf\n",
        "from tensorflow import keras\n",
        "import keras.utils as generic_utils\n",
        "import tensorflow.python.keras.utils as generic_utils\n",
        "from tensorflow.keras.utils import get_custom_objects\n",
        "\n",
        "start_time = time.perf_counter ()\n",
        "@tf.function\n",
        "def custom_activation(x):\n",
        "  #def f1(): return k.tf.add(0.001,k.tf.add(x,7.5))\n",
        "  def f3(): return k.tf.add(0.3435,k.tf.multiply(tf.cast(x, tf.float32),0.107))\n",
        "  def f5(): return k.tf.add(0.5,k.tf.multiply(tf.cast(x, tf.float32),0.231))\n",
        "  def f7(): return k.tf.add(0.8075,k.tf.multiply(tf.cast(x, tf.float32),0.047))\n",
        "  def f9(): return k.tf.ones([1,1],tf.float32)\n",
        "\n",
        "\n",
        "  def f6(): return k.tf.where(k.tf.logical_and(k.tf.greater(tf.cast(x, tf.float32), 1), tf.less(tf.cast(x, tf.float32), 5)),x=f7(),y=f9())\n",
        "  def f4(): return k.tf.where(k.tf.logical_and(k.tf.greater(tf.cast(x, tf.float32), -1), tf.less(tf.cast(x, tf.float32), 1)),x=f5(),y=f6())\n",
        "  def f2(): return k.tf.where(k.tf.logical_and(k.tf.greater(tf.cast(x, tf.float32), -5), tf.less(tf.cast(x, tf.float32), -1)),x=f3(),y=f4())\n",
        "\n",
        "\n",
        "  r = tf.where(\n",
        "         condition=(k.tf.logical_and(k.tf.greater(tf.cast(x, tf.float32), -10), tf.less(tf.cast(x, tf.float32), -5))),\n",
        "         x=k.tf.add(0.0085,k.tf.multiply(tf.cast(x, tf.float32),0.001)),\n",
        "         y=f2()\n",
        "     )\n",
        "\n",
        "  return r\n",
        "end_time = time.perf_counter ()\n",
        "\n",
        "# [0.64565631 0.9999546  0.00669285 0.98201379 0.99908895]\n",
        "print(end_time - start_time, \"seconds\")\n",
        "b = np.array([-3, 10, -5, 4, 7])\n",
        "print(custom_activation(b))"
      ]
    },
    {
      "cell_type": "markdown",
      "source": [
        "7 REGIONS"
      ],
      "metadata": {
        "id": "Apam30ZkWXFJ"
      }
    },
    {
      "cell_type": "code",
      "execution_count": 8,
      "metadata": {
        "id": "Ay2h5qlUaRdi",
        "colab": {
          "base_uri": "https://localhost:8080/"
        },
        "outputId": "eabfc69f-1618-4644-a80c-bab1597b1416"
      },
      "outputs": [
        {
          "output_type": "stream",
          "name": "stdout",
          "text": [
            "0.0007816150000223843 seconds\n",
            "tf.Tensor([[1.     1.     0.0035 1.     1.    ]], shape=(1, 5), dtype=float32)\n"
          ]
        }
      ],
      "source": [
        "# Imnporting Libraries\n",
        "from keras.models import Sequential\n",
        "from keras.layers import Dense\n",
        "import tensorflow as tf\n",
        "import numpy as np\n",
        "# Custom activation function\n",
        "from keras.layers import Activation\n",
        "from keras import backend as K\n",
        "import tensorflow as tf\n",
        "from tensorflow import keras\n",
        "import keras.utils as generic_utils\n",
        "import tensorflow.python.keras.utils as generic_utils\n",
        "from tensorflow.keras.utils import get_custom_objects\n",
        "\n",
        "start_time = time.perf_counter ()\n",
        "@tf.function\n",
        "def custom_activation(x):\n",
        "  #def f1(): return k.tf.add(0.001,k.tf.add(x,7.5))\n",
        "  def f3(): return k.tf.add(0.1935,k.tf.multiply(tf.cast(x, tf.float32),0.047))\n",
        "  def f5(): return k.tf.add(0.3435,k.tf.multiply(tf.cast(x, tf.float32),0.107))\n",
        "  def f7(): return k.tf.add(0.5,k.tf.multiply(tf.cast(x, tf.float32),0.231))\n",
        "  def f9(): return k.tf.add(0.8065,k.tf.multiply(tf.cast(x, tf.float32),0.047))\n",
        "  def f11(): return k.tf.add(0.908,k.tf.multiply(tf.cast(x, tf.float32),0.018))\n",
        "  def f12(): return k.tf.ones([1,1],tf.float32)\n",
        "\n",
        "  def f10(): return k.tf.where(k.tf.logical_and(k.tf.greater(tf.cast(x, tf.float32), 3), tf.less(tf.cast(x, tf.float32), 4)),x=f11(),y=f12())\n",
        "  def f8(): return k.tf.where(k.tf.logical_and(k.tf.greater(tf.cast(x, tf.float32), 2), tf.less(tf.cast(x, tf.float32), 3)),x=f9(),y=f10())\n",
        "  def f6(): return k.tf.where(k.tf.logical_and(k.tf.greater(tf.cast(x, tf.float32), -2), tf.less(tf.cast(x, tf.float32), 2)),x=f7(),y=f8())\n",
        "  def f4(): return k.tf.where(k.tf.logical_and(k.tf.greater(tf.cast(x, tf.float32), -3), tf.less(tf.cast(x, tf.float32), -2)),x=f5(),y=f6())\n",
        "  def f2(): return k.tf.where(k.tf.logical_and(k.tf.greater(tf.cast(x, tf.float32), -4), tf.less(tf.cast(x, tf.float32), -3)),x=f3(),y=f4())\n",
        "\n",
        "\n",
        "  r = tf.where(\n",
        "         condition=(k.tf.logical_and(k.tf.greater(tf.cast(x, tf.float32), -10), tf.less(tf.cast(x, tf.float32), -4))),\n",
        "         x=k.tf.add(0.0085,k.tf.multiply(tf.cast(x, tf.float32),0.001)),\n",
        "         y=f2()\n",
        "     )\n",
        "\n",
        "  return r\n",
        "\n",
        "end_time = time.perf_counter ()\n",
        "print(end_time - start_time, \"seconds\")\n",
        "b = np.array([-3, 10, -5, 4, 7])\n",
        "print(custom_activation(b))"
      ]
    },
    {
      "cell_type": "code",
      "execution_count": null,
      "metadata": {
        "colab": {
          "base_uri": "https://localhost:8080/",
          "height": 501
        },
        "id": "FhOhv8xk0YEz",
        "outputId": "5aa157d5-f983-4523-abab-f8b93ba7ecbc"
      },
      "outputs": [
        {
          "output_type": "stream",
          "name": "stdout",
          "text": [
            "0.19511514499178906\n"
          ]
        },
        {
          "output_type": "display_data",
          "data": {
            "text/plain": [
              "<Figure size 640x480 with 1 Axes>"
            ],
            "image/png": "[encoded data removed]"
          },
          "metadata": {}
        },
        {
          "output_type": "stream",
          "name": "stdout",
          "text": [
            "( 0.5 , 0.6224593312018546 )\n",
            "y = 0.622 + 0.195(x-0.5)\n"
          ]
        },
        {
          "output_type": "execute_result",
          "data": {
            "text/plain": [
              "'\\n         x=K.tf.add(0.017,K.tf.multiply(0.002,tf.cast(x, tf.float32))),\\n         y=K.tf.add(0.803,K.tf.multiply(0.038,tf.cast(x, tf.float32)))\\n'"
            ],
            "application/vnd.google.colaboratory.intrinsic+json": {
              "type": "string"
            }
          },
          "metadata": {},
          "execution_count": 7
        }
      ],
      "source": [
        "from numpy import sin,linspace\n",
        "from pylab import plot,show\n",
        "import numpy as np\n",
        "def f(x): # Sigmoid function\n",
        " return 1./(1+np.exp(-x));\n",
        "\n",
        "# evaluation of the function\n",
        "x = linspace(-10,10,150)\n",
        "y = f(x)\n",
        "\n",
        "\n",
        "\n",
        "a = 0.5\n",
        "h = 1\n",
        "fprime = (f(a+h)-f(a))/h # derivative\n",
        "print(fprime)\n",
        "tan = f(a)+fprime*(x-a)  # tangent\n",
        "\n",
        "# plot of the function and the tangent\n",
        "plot(x,y,'b',a,f(a),'om',x,tan,'--r')\n",
        "show()\n",
        "\n",
        "\"\"\"\n",
        "from pylab import *\n",
        "import sympy as sy\n",
        "x = sy.Symbol('x')\n",
        "\n",
        "# derivative of f(x)\n",
        "def f(x):\n",
        "  return 1/(1 + sy.exp(-x))\n",
        "\n",
        "def fprime(x):\n",
        "  return sy.diff(f(x))\n",
        "print(fprime(x))\n",
        "\"\"\"\n",
        "print(\"(\",a,\",\",f(a),\")\")\n",
        "#print(fprime)\n",
        "\n",
        "#c = f(3)+fprime*(x-3)\n",
        "#print(c)\n",
        "#print(f'y- {f(a)} = {c}(x-{a})')\n",
        "#x, y = 6, 4\n",
        "#dif = exp(-x)/((1+exp(-x))**2)\n",
        "\n",
        "#y = f(a) + fprime(x-a)\n",
        "print(f'y = {round(f(a),3)} + {round(fprime,3)}(x-{a})')\n",
        "\n",
        "\"\"\"\n",
        "         x=K.tf.add(0.017,K.tf.multiply(0.002,tf.cast(x, tf.float32))),\n",
        "         y=K.tf.add(0.803,K.tf.multiply(0.038,tf.cast(x, tf.float32)))\n",
        "\"\"\""
      ]
    },
    {
      "cell_type": "code",
      "execution_count": null,
      "metadata": {
        "id": "PqBls6t5_wxA"
      },
      "outputs": [],
      "source": []
    }
  ],
  "metadata": {
    "accelerator": "GPU",
    "colab": {
      "machine_shape": "hm",
      "provenance": [],
      "gpuType": "A100"
    },
    "kernelspec": {
      "display_name": "Python 3",
      "name": "python3"
    },
    "language_info": {
      "name": "python"
    }
  },
  "nbformat": 4,
  "nbformat_minor": 0
}